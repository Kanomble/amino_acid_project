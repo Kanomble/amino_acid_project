{
 "cells": [
  {
   "cell_type": "code",
   "execution_count": 1,
   "id": "0847156d",
   "metadata": {},
   "outputs": [],
   "source": [
    "from os import listdir, mkdir\n",
    "from os.path import isdir, isfile\n",
    "import pandas as pd\n",
    "pd.options.mode.chained_assignment = None"
   ]
  },
  {
   "cell_type": "code",
   "execution_count": 2,
   "id": "ec2793ea",
   "metadata": {},
   "outputs": [],
   "source": [
    "pannzer_result_path = \"../results/pannzer_annotation/\"\n",
    "goatools_result_path = \"../results/goatools_preprocessing/\"\n",
    "ppv_go_analysis_sets = [0.5,0.6,0.7,0.8,0.9]"
   ]
  },
  {
   "cell_type": "code",
   "execution_count": null,
   "id": "10cc4ffc",
   "metadata": {},
   "outputs": [],
   "source": [
    "# writing goatools association file\n",
    "for file in listdir(pannzer_result_path):\n",
    "    pannzer_folder = pannzer_result_path + file\n",
    "    if isdir(pannzer_folder):\n",
    "        go_annotation_file = pannzer_folder + \"/GO.out\"\n",
    "        if isfile(go_annotation_file):\n",
    "            print(\"[+] Working with: {}\".format(go_annotation_file))\n",
    "            go_table = pd.read_table(go_annotation_file)\n",
    "\n",
    "            # applying PPV filter\n",
    "            for ppv in ppv_go_analysis_sets:\n",
    "                print(\"\\t[*] Working with PPV: {}\".format(ppv))\n",
    "                filtered_go_table = go_table[go_table[\"ARGOT_PPV\"] >= ppv]\n",
    "                # creating GO column for goatools\n",
    "                filtered_go_table[\"GOatools_identifier\"] = filtered_go_table[\"goid\"].apply(lambda x: \"GO:\" + \"0\" * (7-len(str(x))) + str(x))\n",
    "                print(\"\\t[*] Identified {} GO-terms that fit the PPV\".format(len(filtered_go_table)))\n",
    "                # writing association file\n",
    "                goatools_species_result_path = goatools_result_path + file\n",
    "                if isdir(goatools_species_result_path) == False:\n",
    "                    mkdir(goatools_species_result_path)\n",
    "                assoc_result_file = goatools_species_result_path + \"/associations\" + \"_\" + str(ppv).replace(\".\",\"\") + \".txt\"\n",
    "                population_result_file = goatools_species_result_path + \"/p\" + \"_\" + str(ppv).replace(\".\",\"\") + \".txt\"\n",
    "                with open(assoc_result_file, \"w\") as associations:\n",
    "                    with open(population_result_file, \"w\") as popfile:\n",
    "                        for protein_id in filtered_go_table[\"qpid\"].unique():\n",
    "                            protein_go_table = filtered_go_table[filtered_go_table[\"qpid\"] == protein_id]\n",
    "                            go_row = \"\"\n",
    "                            for index, go_id in enumerate(protein_go_table[\"GOatools_identifier\"]):\n",
    "                                if index+1 != len(protein_go_table[\"GOatools_identifier\"]):\n",
    "                                    go_row = go_row + go_id + \";\"\n",
    "                                else:\n",
    "                                    go_row += go_id\n",
    "                            associations.write(protein_id + \"\\t\" + go_row + \"\\n\")\n",
    "                            popfile.write(protein_id + \"\\n\")"
   ]
  },
  {
   "cell_type": "code",
   "execution_count": null,
   "id": "737b8036",
   "metadata": {},
   "outputs": [],
   "source": [
    "!wget -P ../data/goatools_data/ http://current.geneontology.org/ontology/go-basic.obo"
   ]
  },
  {
   "cell_type": "code",
   "execution_count": 5,
   "id": "e240e7b4",
   "metadata": {},
   "outputs": [
    {
     "name": "stdout",
     "output_type": "stream",
     "text": [
      "[+] Working with: ../results/pannzer_annotation/curvibacter_aep//GO.out\n",
      "\t[*] Working with PPV: 0.5\n",
      "\t[*] Identified 56705 GO-terms that fit the PPV\n",
      "\t[*] Working with PPV: 0.6\n",
      "\t[*] Identified 28814 GO-terms that fit the PPV\n",
      "\t[*] Working with PPV: 0.7\n",
      "\t[*] Identified 9309 GO-terms that fit the PPV\n",
      "\t[*] Working with PPV: 0.8\n",
      "\t[*] Identified 854 GO-terms that fit the PPV\n",
      "\t[*] Working with PPV: 0.9\n",
      "\t[*] Identified 0 GO-terms that fit the PPV\n"
     ]
    }
   ],
   "source": [
    "pannzer_folder = \"../results/pannzer_annotation/curvibacter_aep/\"\n",
    "file = \"curvibacter_aep/\"\n",
    "if isdir(pannzer_folder):\n",
    "    go_annotation_file = pannzer_folder + \"/GO.out\"\n",
    "    if isfile(go_annotation_file):\n",
    "        print(\"[+] Working with: {}\".format(go_annotation_file))\n",
    "        go_table = pd.read_table(go_annotation_file)\n",
    "\n",
    "        # applying PPV filter\n",
    "        for ppv in ppv_go_analysis_sets:\n",
    "            print(\"\\t[*] Working with PPV: {}\".format(ppv))\n",
    "            filtered_go_table = go_table[go_table[\"ARGOT_PPV\"] >= ppv]\n",
    "            # creating GO column for goatools\n",
    "            filtered_go_table[\"GOatools_identifier\"] = filtered_go_table[\"goid\"].apply(lambda x: \"GO:\" + \"0\" * (7-len(str(x))) + str(x))\n",
    "            print(\"\\t[*] Identified {} GO-terms that fit the PPV\".format(len(filtered_go_table)))\n",
    "            # writing association file\n",
    "            goatools_species_result_path = goatools_result_path + file\n",
    "            if isdir(goatools_species_result_path) == False:\n",
    "                mkdir(goatools_species_result_path)\n",
    "            assoc_result_file = goatools_species_result_path + \"/associations\" + \"_\" + str(ppv).replace(\".\",\"\") + \".txt\"\n",
    "            population_result_file = goatools_species_result_path + \"/p\" + \"_\" + str(ppv).replace(\".\",\"\") + \".txt\"\n",
    "            with open(assoc_result_file, \"w\") as associations:\n",
    "                with open(population_result_file, \"w\") as popfile:\n",
    "                    for protein_id in filtered_go_table[\"qpid\"].unique():\n",
    "                        protein_go_table = filtered_go_table[filtered_go_table[\"qpid\"] == protein_id]\n",
    "                        go_row = \"\"\n",
    "                        for index, go_id in enumerate(protein_go_table[\"GOatools_identifier\"]):\n",
    "                            if index+1 != len(protein_go_table[\"GOatools_identifier\"]):\n",
    "                                go_row = go_row + go_id + \";\"\n",
    "                            else:\n",
    "                                go_row += go_id\n",
    "                        associations.write(protein_id + \"\\t\" + go_row + \"\\n\")\n",
    "                        popfile.write(protein_id + \"\\n\")"
   ]
  }
 ],
 "metadata": {
  "kernelspec": {
   "display_name": "Python 3",
   "language": "python",
   "name": "python3"
  },
  "language_info": {
   "codemirror_mode": {
    "name": "ipython",
    "version": 3
   },
   "file_extension": ".py",
   "mimetype": "text/x-python",
   "name": "python",
   "nbconvert_exporter": "python",
   "pygments_lexer": "ipython3",
   "version": "3.8.16"
  }
 },
 "nbformat": 4,
 "nbformat_minor": 5
}
