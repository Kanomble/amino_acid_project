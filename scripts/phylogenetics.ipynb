{
 "cells": [
  {
   "cell_type": "code",
   "execution_count": 18,
   "id": "c7075543-7eee-4baf-9063-e7b712f5a58b",
   "metadata": {},
   "outputs": [],
   "source": [
    "import pandas as pd"
   ]
  },
  {
   "cell_type": "code",
   "execution_count": 1,
   "id": "68c07276-d73e-44fa-915d-21eec20e1a17",
   "metadata": {},
   "outputs": [],
   "source": [
    "path_to_mafft_input = \"../data/phylogenetics/metb_mety_metz.faa\"\n",
    "path_to_mafft_output = \"../results/processed_data/phylogenetics/mafft/metb_mety_metz.msa\"\n",
    "path_to_fasttree_output = \"../results/processed_data/phylogenetics/fasttree/metb_mety_metz.nwk\""
   ]
  },
  {
   "cell_type": "code",
   "execution_count": 43,
   "id": "ec1f3080-8f29-4607-b153-e12a7e14f5e7",
   "metadata": {},
   "outputs": [],
   "source": [
    "# !mafft $path_to_mafft_input > $path_to_mafft_output"
   ]
  },
  {
   "cell_type": "code",
   "execution_count": 44,
   "id": "ee163f27-7faf-4862-aef5-e753cc4a0505",
   "metadata": {},
   "outputs": [],
   "source": [
    "# !fasttree $path_to_mafft_output > $path_to_fasttree_output"
   ]
  },
  {
   "cell_type": "code",
   "execution_count": 14,
   "id": "13fe5d12-3b22-47d3-8dd9-1d88cdcd92c3",
   "metadata": {},
   "outputs": [],
   "source": [
    "entrez_result_path = \"../results/processed_data/phylogenetics/entrez/\"\n",
    "metB_entrez = entrez_result_path + \"metB_table.tsf\"\n",
    "metY_entrez = entrez_result_path + \"metY_table.tsf\"\n",
    "metZ_entrez = entrez_result_path + \"metZ_table.tsf\""
   ]
  },
  {
   "cell_type": "code",
   "execution_count": 45,
   "id": "3e4d2f18-95aa-48b3-ad35-aa4ed9556803",
   "metadata": {},
   "outputs": [],
   "source": [
    "# !esearch -db protein -query \"metB AND proteobacteria[organism]\" | efetch -format docsum | xtract -pattern DocumentSummary -element Id Caption SourceDb Completeness TaxId Organism Title Slen > $metB_entrez"
   ]
  },
  {
   "cell_type": "code",
   "execution_count": 46,
   "id": "72726a3b-cf70-4b80-9789-2a31a52449e3",
   "metadata": {},
   "outputs": [],
   "source": [
    "# !esearch -db protein -query \"metY AND proteobacteria[organism]\" | efetch -format docsum | xtract -pattern DocumentSummary -element Id Caption SourceDb Completeness TaxId Organism Title Slen > $metY_entrez"
   ]
  },
  {
   "cell_type": "code",
   "execution_count": 47,
   "id": "f34c17ae-eb22-490b-80f6-63063d19a0d8",
   "metadata": {},
   "outputs": [],
   "source": [
    "# !esearch -db protein -query \"metZ AND proteobacteria[organism]\" | efetch -format docsum | xtract -pattern DocumentSummary -element Id Caption SourceDb Completeness TaxId Organism Title Slen > $metZ_entrez"
   ]
  },
  {
   "cell_type": "code",
   "execution_count": 28,
   "id": "09df2ba5-5ec4-42aa-b243-adc87e098de0",
   "metadata": {},
   "outputs": [],
   "source": [
    "'''read_table\n",
    "\n",
    "    This function reads the data obtained by the eserach E-Direct tool from NCBI\n",
    "    \n",
    "'''\n",
    "def read_table(data_path:str)->pd.DataFrame:\n",
    "    try:\n",
    "        cols = \"Id Caption SourceDb Completeness TaxId Organism Title Slen\".split(\" \")\n",
    "        data_as_lines = []\n",
    "        with open(data_path,\"r\") as data:\n",
    "            for line in data.readlines():\n",
    "                line = line.rstrip()\n",
    "                line = line.split(\"\\t\")\n",
    "                # Completeness info is missing\n",
    "                if len(line) == 7:\n",
    "                    line = [line[0],line[1],line[2],\"no info\",line[3],line[4],line[5],line[6]]\n",
    "                data_as_lines.append(line)\n",
    "        dataframe = pd.DataFrame(data_as_lines,columns=cols)\n",
    "        dataframe = dataframe.astype({\"Id\":int,\"TaxId\":int,\"Slen\":int})\n",
    "        return dataframe\n",
    "    except Exception as e:\n",
    "        raise Exception(\"[-] ERROR creating dataframe with exception: {}\".format(e))"
   ]
  },
  {
   "cell_type": "code",
   "execution_count": 29,
   "id": "ee91f465-3fc4-413b-af29-86cfeb283d65",
   "metadata": {},
   "outputs": [],
   "source": [
    "metB_data = read_table(metB_entrez)\n",
    "metZ_data = read_table(metZ_entrez)\n",
    "metY_data = read_table(metY_entrez)"
   ]
  },
  {
   "cell_type": "code",
   "execution_count": 39,
   "id": "a09e01e8-859f-4761-a25c-3457951c6d51",
   "metadata": {},
   "outputs": [],
   "source": [
    "'''filter_entrez_data\n",
    "\n",
    "    This function filters the provided entrez dataframes by sequence length, taxid and source database.\n",
    "    \n",
    "'''\n",
    "def filter_entrez_data(dataframe:pd.DataFrame,length_filter=300,taxid_filter=True,source_db_filter=True)->pd.DataFrame:\n",
    "    try:\n",
    "        data = dataframe.copy()\n",
    "        print(\"[+] DataFrame has a length of: {}\".format(len(data)))\n",
    "        filtered_data = data[data[\"Slen\"] > 300]\n",
    "        print(\"\\t[+] Sequence length filter: {}\".format(length_filter))\n",
    "        if taxid_filter:\n",
    "            print(\"\\t[+] Applying TaxId filter\")\n",
    "            filtered_data = filtered_data.drop_duplicates(subset=\"TaxId\",keep=\"first\")\n",
    "        if source_db_filter:\n",
    "            print(\"\\t[+] Applying SourceDb filter\")\n",
    "            filtered_data = filtered_data[filtered_data[\"SourceDb\"] == \"refseq\"]\n",
    "        print(\"[+] Filtered DataFrame has a length of: {}\".format(len(filtered_data)))\n",
    "        return filtered_data\n",
    "    except Exception as e:\n",
    "        raise Exception(\"[-] ERROR filtering entrez dataframe with exception: {}\".format(e))"
   ]
  },
  {
   "cell_type": "code",
   "execution_count": 42,
   "id": "12b9713b-57fd-48c1-8a47-598f8abe07c5",
   "metadata": {},
   "outputs": [
    {
     "name": "stdout",
     "output_type": "stream",
     "text": [
      "[+] DataFrame has a length of: 38180\n",
      "\t[+] Sequence length filter: 300\n",
      "\t[+] Applying TaxId filter\n",
      "\t[+] Applying SourceDb filter\n",
      "[+] Filtered DataFrame has a length of: 2000\n",
      "[+] DataFrame has a length of: 15593\n",
      "\t[+] Sequence length filter: 300\n",
      "\t[+] Applying TaxId filter\n",
      "\t[+] Applying SourceDb filter\n",
      "[+] Filtered DataFrame has a length of: 3836\n",
      "[+] DataFrame has a length of: 1114\n",
      "\t[+] Sequence length filter: 300\n",
      "\t[+] Applying TaxId filter\n",
      "[+] Filtered DataFrame has a length of: 546\n"
     ]
    }
   ],
   "source": [
    "metB_filtered_data = filter_entrez_data(metB_data)\n",
    "metZ_filtered_data = filter_entrez_data(metZ_data)\n",
    "metY_filtered_data = filter_entrez_data(metY_data,source_db_filter=False)"
   ]
  },
  {
   "cell_type": "code",
   "execution_count": 49,
   "id": "d663d9d6-3b1b-4ee9-badc-ed0c087d53c9",
   "metadata": {},
   "outputs": [],
   "source": [
    "metB_protein_ids_path = entrez_result_path + \"metB_protein_ids.txt\"\n",
    "metY_protein_ids_path = entrez_result_path + \"metY_protein_ids.txt\"\n",
    "metZ_protein_ids_path = entrez_result_path + \"metZ_protein_ids.txt\""
   ]
  },
  {
   "cell_type": "code",
   "execution_count": 50,
   "id": "31883bdb-fe7f-4387-bed1-07788f999fe2",
   "metadata": {},
   "outputs": [
    {
     "data": {
      "text/html": [
       "<div>\n",
       "<style scoped>\n",
       "    .dataframe tbody tr th:only-of-type {\n",
       "        vertical-align: middle;\n",
       "    }\n",
       "\n",
       "    .dataframe tbody tr th {\n",
       "        vertical-align: top;\n",
       "    }\n",
       "\n",
       "    .dataframe thead th {\n",
       "        text-align: right;\n",
       "    }\n",
       "</style>\n",
       "<table border=\"1\" class=\"dataframe\">\n",
       "  <thead>\n",
       "    <tr style=\"text-align: right;\">\n",
       "      <th></th>\n",
       "      <th>Id</th>\n",
       "      <th>Caption</th>\n",
       "      <th>SourceDb</th>\n",
       "      <th>Completeness</th>\n",
       "      <th>TaxId</th>\n",
       "      <th>Organism</th>\n",
       "      <th>Title</th>\n",
       "      <th>Slen</th>\n",
       "    </tr>\n",
       "  </thead>\n",
       "  <tbody>\n",
       "    <tr>\n",
       "      <th>0</th>\n",
       "      <td>2839447466</td>\n",
       "      <td>CAM0125753</td>\n",
       "      <td>insd</td>\n",
       "      <td>no info</td>\n",
       "      <td>86188</td>\n",
       "      <td>Stenotrophomonas geniculata</td>\n",
       "      <td>O-acetyl-L-homoserine sulfhydrylase [Stenotrop...</td>\n",
       "      <td>428</td>\n",
       "    </tr>\n",
       "    <tr>\n",
       "      <th>1</th>\n",
       "      <td>2839447118</td>\n",
       "      <td>CAM0118147</td>\n",
       "      <td>insd</td>\n",
       "      <td>no info</td>\n",
       "      <td>40324</td>\n",
       "      <td>Stenotrophomonas maltophilia</td>\n",
       "      <td>O-acetyl-L-homoserine sulfhydrylase [Stenotrop...</td>\n",
       "      <td>428</td>\n",
       "    </tr>\n",
       "    <tr>\n",
       "      <th>2</th>\n",
       "      <td>2814348139</td>\n",
       "      <td>XHV07197</td>\n",
       "      <td>insd</td>\n",
       "      <td>no info</td>\n",
       "      <td>287</td>\n",
       "      <td>Pseudomonas aeruginosa</td>\n",
       "      <td>homocysteine synthase [Pseudomonas aeruginosa]</td>\n",
       "      <td>425</td>\n",
       "    </tr>\n",
       "    <tr>\n",
       "      <th>3</th>\n",
       "      <td>2814205940</td>\n",
       "      <td>XHT91261</td>\n",
       "      <td>insd</td>\n",
       "      <td>complete</td>\n",
       "      <td>48296</td>\n",
       "      <td>Acinetobacter pittii</td>\n",
       "      <td>aminotransferase class I/II-fold pyridoxal pho...</td>\n",
       "      <td>425</td>\n",
       "    </tr>\n",
       "    <tr>\n",
       "      <th>6</th>\n",
       "      <td>67466069</td>\n",
       "      <td>P0A705</td>\n",
       "      <td>swiss_prot</td>\n",
       "      <td>complete</td>\n",
       "      <td>83333</td>\n",
       "      <td>Escherichia coli K-12</td>\n",
       "      <td>RecName: Full=Translation initiation factor IF-2</td>\n",
       "      <td>890</td>\n",
       "    </tr>\n",
       "  </tbody>\n",
       "</table>\n",
       "</div>"
      ],
      "text/plain": [
       "           Id     Caption    SourceDb Completeness  TaxId  \\\n",
       "0  2839447466  CAM0125753        insd      no info  86188   \n",
       "1  2839447118  CAM0118147        insd      no info  40324   \n",
       "2  2814348139    XHV07197        insd      no info    287   \n",
       "3  2814205940    XHT91261        insd     complete  48296   \n",
       "6    67466069      P0A705  swiss_prot     complete  83333   \n",
       "\n",
       "                       Organism  \\\n",
       "0   Stenotrophomonas geniculata   \n",
       "1  Stenotrophomonas maltophilia   \n",
       "2        Pseudomonas aeruginosa   \n",
       "3          Acinetobacter pittii   \n",
       "6         Escherichia coli K-12   \n",
       "\n",
       "                                               Title  Slen  \n",
       "0  O-acetyl-L-homoserine sulfhydrylase [Stenotrop...   428  \n",
       "1  O-acetyl-L-homoserine sulfhydrylase [Stenotrop...   428  \n",
       "2     homocysteine synthase [Pseudomonas aeruginosa]   425  \n",
       "3  aminotransferase class I/II-fold pyridoxal pho...   425  \n",
       "6   RecName: Full=Translation initiation factor IF-2   890  "
      ]
     },
     "execution_count": 50,
     "metadata": {},
     "output_type": "execute_result"
    }
   ],
   "source": [
    "metY_filtered_data.head()"
   ]
  },
  {
   "cell_type": "code",
   "execution_count": 54,
   "id": "3b2043a7-27ab-411e-abb0-a6d1d8cf1a4f",
   "metadata": {},
   "outputs": [],
   "source": [
    "'''write_protein_id_file\n",
    "\n",
    "    This function takes a pandas dataframe with an Id column and writes a file containing all\n",
    "    values of the Id column per line.\n",
    "    \n",
    "'''\n",
    "def write_protein_id_file(dataframe:pd.DataFrame,output_file:str)->int:\n",
    "    try:\n",
    "        data = dataframe.copy()\n",
    "        protein_ids = data[\"Id\"].to_list()\n",
    "        with open(output_file, \"w\") as output:\n",
    "            for protein in protein_ids:\n",
    "                output.write(str(protein) + \"\\n\")\n",
    "        return 1\n",
    "    except Exception as e:\n",
    "        raise Exception(\"[-] ERROR with exception: {}\".format(e))"
   ]
  },
  {
   "cell_type": "code",
   "execution_count": 55,
   "id": "58e3ddff-860c-446e-89bc-f82ffa80f58c",
   "metadata": {},
   "outputs": [
    {
     "data": {
      "text/plain": [
       "1"
      ]
     },
     "execution_count": 55,
     "metadata": {},
     "output_type": "execute_result"
    }
   ],
   "source": [
    "write_protein_id_file(metB_filtered_data, metB_protein_ids_path)\n",
    "write_protein_id_file(metY_filtered_data, metY_protein_ids_path)\n",
    "write_protein_id_file(metZ_filtered_data, metZ_protein_ids_path)"
   ]
  },
  {
   "cell_type": "code",
   "execution_count": 57,
   "id": "6299e1a1-3d0d-40f5-b8a6-00d34e056d24",
   "metadata": {},
   "outputs": [],
   "source": [
    "metB_proteins = entrez_result_path + \"metB_proteins.faa\"\n",
    "metY_proteins = entrez_result_path + \"metY_proteins.faa\"\n",
    "metZ_proteins = entrez_result_path + \"metZ_proteins.faa\""
   ]
  },
  {
   "cell_type": "code",
   "execution_count": 59,
   "id": "58dd7598-1af0-45e0-8df5-aecfb0d3d711",
   "metadata": {},
   "outputs": [],
   "source": [
    "!efetch -db protein -input $metB_protein_ids_path -format fasta > $metB_proteins"
   ]
  },
  {
   "cell_type": "code",
   "execution_count": 60,
   "id": "7eb3f302-e650-48ff-8d7a-d2415a9b956d",
   "metadata": {},
   "outputs": [],
   "source": [
    "!efetch -db protein -input $metY_protein_ids_path -format fasta > $metY_proteins"
   ]
  },
  {
   "cell_type": "code",
   "execution_count": 61,
   "id": "d1d7d0ce-704d-49e3-abe1-22e98da50b93",
   "metadata": {},
   "outputs": [],
   "source": [
    "!efetch -db protein -input $metZ_protein_ids_path -format fasta > $metZ_proteins"
   ]
  },
  {
   "cell_type": "code",
   "execution_count": 113,
   "id": "76774869-9e07-4352-851a-74ecf016e8d8",
   "metadata": {},
   "outputs": [],
   "source": [
    "proteins_path = entrez_result_path + \"combined_proteins.faa\""
   ]
  },
  {
   "cell_type": "code",
   "execution_count": 114,
   "id": "97a8e2cb-9157-4f31-8096-9b2d40f2ff0d",
   "metadata": {},
   "outputs": [],
   "source": [
    "!cat $metB_proteins $metY_proteins $metZ_proteins > $proteins_path"
   ]
  },
  {
   "cell_type": "code",
   "execution_count": 64,
   "id": "93369693-9c6a-40cf-a5b5-bff757ef5e8d",
   "metadata": {},
   "outputs": [],
   "source": [
    "# add Curvibacter proteins to the $proteins file ..."
   ]
  },
  {
   "cell_type": "code",
   "execution_count": 115,
   "id": "69ea09ca-1e2e-4fec-8de3-951c541d61f1",
   "metadata": {},
   "outputs": [],
   "source": [
    "# filter none-unique proteins\n",
    "proteins = []\n",
    "proteins_to_remove = []\n",
    "with open(proteins_path, \"r\") as protein_file:\n",
    "    for protein in protein_file.readlines():\n",
    "        if protein.startswith(\">\"):\n",
    "            protein = protein.split(\">\")[-1]\n",
    "            protein = protein.split(\" \")[0]\n",
    "            if protein not in proteins:\n",
    "                proteins.append(protein)\n",
    "            else:\n",
    "                proteins_to_remove.append(protein)"
   ]
  },
  {
   "cell_type": "code",
   "execution_count": 117,
   "id": "eaf7264a-eabd-4cd4-a6a6-25a9507c00ad",
   "metadata": {},
   "outputs": [],
   "source": [
    "# filter none-unique proteins\n",
    "proteins = []\n",
    "proteins_to_remove = []\n",
    "with open(proteins_path, \"r\") as protein_file:\n",
    "    for protein in protein_file.readlines():\n",
    "        if protein.startswith(\">\"):\n",
    "            protein = protein.split(\">\")[-1]\n",
    "            protein = protein.split(\" \")[0]\n",
    "            if protein not in proteins:\n",
    "                proteins.append(protein)\n",
    "            else:\n",
    "                proteins_to_remove.append(protein)\n",
    "\n",
    "protein_dict = {}\n",
    "with open(proteins_path, \"r\") as protein_file:\n",
    "    for protein in protein_file.readlines():\n",
    "        \n",
    "        if protein.startswith(\">\"):\n",
    "\n",
    "            protein_id = protein.split(\">\")[-1]\n",
    "            protein_id = protein_id.split(\" \")[0]\n",
    "            \n",
    "            if protein_id not in proteins_to_remove:\n",
    "\n",
    "                to_remove = False\n",
    "                switch = True\n",
    "                header = protein\n",
    "                protein_dict[header] = \"\"\n",
    "\n",
    "            else:\n",
    "                print(protein_id)\n",
    "                to_remove = True\n",
    "        else:\n",
    "            switch = False\n",
    "\n",
    "        if switch == False and to_remove == False:\n",
    "            protein_dict[header] += protein\n",
    "\n",
    "with open(proteins_path,\"w\") as protein_file:\n",
    "    for key in protein_dict.keys():\n",
    "        protein_file.write(key)\n",
    "        protein_file.write(protein_dict[key])"
   ]
  },
  {
   "cell_type": "code",
   "execution_count": 118,
   "id": "5bd3076b-63a8-4772-893a-b4364135c58f",
   "metadata": {},
   "outputs": [],
   "source": [
    "mafft_output = \"../results/processed_data/phylogenetics/mafft/combined_proteins.msa\"\n",
    "fasttree_output = \"../results/processed_data/phylogenetics/fasttree/combined_proteins.nwk\""
   ]
  },
  {
   "cell_type": "code",
   "execution_count": 123,
   "id": "f6cac80c-16e3-4571-aa6f-2d85da769f66",
   "metadata": {},
   "outputs": [
    {
     "name": "stdout",
     "output_type": "stream",
     "text": [
      "nthread = 0\n",
      "nthreadpair = 0\n",
      "nthreadtb = 0\n",
      "ppenalty_ex = 0\n",
      "stacksize: 8192 kb\n",
      "rescale = 1\n",
      "Gap Penalty = -1.53, +0.00, +0.00\n",
      "\n",
      "\n",
      "\n",
      "Making a distance matrix ..\n",
      "\n",
      "There are 39 ambiguous characters.\n",
      " 6301 / 6385\n",
      "done.\n",
      "\n",
      "Constructing a UPGMA tree (efffree=0) ... \n",
      " 6380 / 6385\n",
      "done.\n",
      "\n",
      "Progressive alignment 1/2... \n",
      "STEP  6301 / 6384  h\n",
      "Reallocating..done. *alloclen = 2936\n",
      "\n",
      "done.\n",
      "\n",
      "Making a distance matrix from msa.. \n",
      " 6300 / 6385\n",
      "done.\n",
      "\n",
      "Constructing a UPGMA tree (efffree=1) ... \n",
      " 6380 / 6385\n",
      "done.\n",
      "\n",
      "Progressive alignment 2/2... \n",
      "STEP  6301 / 6384  h\n",
      "Reallocating..done. *alloclen = 2893\n",
      "\n",
      "done.\n",
      "\n",
      "disttbfast (aa) Version 7.453\n",
      "alg=A, model=BLOSUM62, 1.53, -0.00, -0.00, noshift, amax=0.0\n",
      "0 thread(s)\n",
      "\n",
      "\n",
      "Strategy:\n",
      " FFT-NS-2 (Fast but rough)\n",
      " Progressive method (guide trees were built 2 times.)\n",
      "\n",
      "If unsure which option to use, try 'mafft --auto input > output'.\n",
      "For more information, see 'mafft --help', 'mafft --man' and the mafft page.\n",
      "\n",
      "The default gap scoring scheme has been changed in version 7.110 (2013 Oct).\n",
      "It tends to insert more gaps into gap-rich regions than previous versions.\n",
      "To disable this change, add the --leavegappyregion option.\n",
      "\n"
     ]
    }
   ],
   "source": [
    "!mafft --auto $proteins_path > $mafft_output"
   ]
  },
  {
   "cell_type": "code",
   "execution_count": 124,
   "id": "0d557a7b-4ad8-4512-bfe1-75f3e39f3f12",
   "metadata": {},
   "outputs": [
    {
     "name": "stdout",
     "output_type": "stream",
     "text": [
      "FastTree Version 2.1.11 Double precision (No SSE3)\n",
      "Alignment: ../results/processed_data/phylogenetics/mafft/combined_proteins.msa\n",
      "Amino acid distances: BLOSUM45 Joins: balanced Support: SH-like 1000\n",
      "Search: Normal +NNI +SPR (2 rounds range 10) +ML-NNI opt-each=1\n",
      "TopHits: 1.00*sqrtN close=default refresh=0.80\n",
      "ML Model: Jones-Taylor-Thorton, CAT approximation with 20 rate categories\n",
      "Ignored unknown character X (seen 39 times)\n",
      "Initial topology in 34.28 seconds of   6281    1 of   6284 seqs   6100)   \n",
      "Refining topology: 50 rounds ME-NNIs, 2 rounds ME-SPRs, 25 rounds ML-NNIs\n",
      "Total branch-length 338.782 after 97.47 sec6101 of 6282 splits, 1 changes (max delta 0.005)     \n",
      "ML-NNI round 1: LogLk = -958026.706 NNIs 1175 max delta 24.68 Time 303.67es (max delta 24.680)   \n",
      "Switched to using 20 rate categories (CAT approximation)20 of 20   \n",
      "Rate categories were divided by 0.990 so that average rate = 1.0\n",
      "CAT-based log-likelihoods may not be comparable across runs\n",
      "Use -gamma for approximate but comparable Gamma(20) log-likelihoods\n",
      "ML-NNI round 2: LogLk = -885759.277 NNIs 742 max delta 13.96 Time 432.00es (max delta 13.962)   \n",
      "ML-NNI round 3: LogLk = -885504.114 NNIs 460 max delta 9.43 Time 494.92ges (max delta 9.431)   \n",
      "ML-NNI round 4: LogLk = -885375.158 NNIs 309 max delta 19.66 Time 531.88es (max delta 19.661)   \n",
      "ML-NNI round 5: LogLk = -885314.291 NNIs 236 max delta 14.87 Time 554.36es (max delta 14.874)   \n",
      "ML-NNI round 6: LogLk = -885291.146 NNIs 129 max delta 4.23 Time 567.16es (max delta 4.226)   \n",
      "ML-NNI round 7: LogLk = -885280.505 NNIs 105 max delta 3.78 Time 576.88es (max delta 3.782)   \n",
      "ML-NNI round 8: LogLk = -885267.400 NNIs 29 max delta 4.26 Time 580.58es (max delta 4.257)   \n",
      "ML-NNI round 9: LogLk = -885245.674 NNIs 28 max delta 5.54 Time 583.73es (max delta 5.545)   \n",
      "ML-NNI round 10: LogLk = -885239.672 NNIs 24 max delta 0.68 Time 586.56es (max delta 0.678)   \n",
      "ML-NNI round 11: LogLk = -885239.661 NNIs 22 max delta 0.00 Time 589.15es (max delta 0.000)   \n",
      "Turning off heuristics for final round of ML NNIs (converged)\n",
      "ML-NNI round 12: LogLk = -884959.430 NNIs 514 max delta 8.50 Time 751.75 (final) delta 8.499)   \n",
      "Optimize all lengths: LogLk = -884946.623 Time 795.16\n",
      "Total time: 944.88 seconds Unique: 6284/6385 Bad splits: 25/6281 Worst delta-LogLk 8.669\n"
     ]
    }
   ],
   "source": [
    "!fasttree $mafft_output > $fasttree_output"
   ]
  }
 ],
 "metadata": {
  "kernelspec": {
   "display_name": "Python 3 (ipykernel)",
   "language": "python",
   "name": "python3"
  },
  "language_info": {
   "codemirror_mode": {
    "name": "ipython",
    "version": 3
   },
   "file_extension": ".py",
   "mimetype": "text/x-python",
   "name": "python",
   "nbconvert_exporter": "python",
   "pygments_lexer": "ipython3",
   "version": "3.8.20"
  }
 },
 "nbformat": 4,
 "nbformat_minor": 5
}
